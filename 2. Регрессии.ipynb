{
 "cells": [
  {
   "cell_type": "code",
   "execution_count": 1,
   "metadata": {},
   "outputs": [],
   "source": [
    "import pandas as pd\n",
    "import numpy as np\n",
    "import matplotlib.pyplot as plt\n",
    "plt.style.use('ggplot')\n",
    "%matplotlib inline\n",
    "from sklearn.model_selection import learning_curve, train_test_split\n",
    "from sklearn import linear_model\n",
    "from sklearn.ensemble import RandomForestRegressor\n",
    "from sklearn.preprocessing import PolynomialFeatures\n",
    "from sklearn import metrics"
   ]
  },
  {
   "cell_type": "code",
   "execution_count": 2,
   "metadata": {},
   "outputs": [
    {
     "data": {
      "text/html": [
       "<div>\n",
       "<style scoped>\n",
       "    .dataframe tbody tr th:only-of-type {\n",
       "        vertical-align: middle;\n",
       "    }\n",
       "\n",
       "    .dataframe tbody tr th {\n",
       "        vertical-align: top;\n",
       "    }\n",
       "\n",
       "    .dataframe thead th {\n",
       "        text-align: right;\n",
       "    }\n",
       "</style>\n",
       "<table border=\"1\" class=\"dataframe\">\n",
       "  <thead>\n",
       "    <tr style=\"text-align: right;\">\n",
       "      <th></th>\n",
       "      <th>id</th>\n",
       "      <th>cycle</th>\n",
       "      <th>p00</th>\n",
       "      <th>p01</th>\n",
       "      <th>p02</th>\n",
       "      <th>p03</th>\n",
       "      <th>p04</th>\n",
       "      <th>p05</th>\n",
       "      <th>p06</th>\n",
       "      <th>p07</th>\n",
       "      <th>...</th>\n",
       "      <th>p16</th>\n",
       "      <th>p17</th>\n",
       "      <th>p18</th>\n",
       "      <th>p19</th>\n",
       "      <th>p20</th>\n",
       "      <th>s1</th>\n",
       "      <th>s2</th>\n",
       "      <th>ctf</th>\n",
       "      <th>binar</th>\n",
       "      <th>multi</th>\n",
       "    </tr>\n",
       "  </thead>\n",
       "  <tbody>\n",
       "    <tr>\n",
       "      <th>0</th>\n",
       "      <td>1</td>\n",
       "      <td>1</td>\n",
       "      <td>518.67</td>\n",
       "      <td>1.3</td>\n",
       "      <td>47.47</td>\n",
       "      <td>521.66</td>\n",
       "      <td>2388.02</td>\n",
       "      <td>8138.62</td>\n",
       "      <td>8.4195</td>\n",
       "      <td>0.03</td>\n",
       "      <td>...</td>\n",
       "      <td>14.62</td>\n",
       "      <td>21.61</td>\n",
       "      <td>554.36</td>\n",
       "      <td>2388.06</td>\n",
       "      <td>9046.19</td>\n",
       "      <td>-0.0007</td>\n",
       "      <td>-0.0004</td>\n",
       "      <td>191</td>\n",
       "      <td>0</td>\n",
       "      <td>0</td>\n",
       "    </tr>\n",
       "    <tr>\n",
       "      <th>1</th>\n",
       "      <td>1</td>\n",
       "      <td>2</td>\n",
       "      <td>518.67</td>\n",
       "      <td>1.3</td>\n",
       "      <td>47.49</td>\n",
       "      <td>522.28</td>\n",
       "      <td>2388.07</td>\n",
       "      <td>8131.49</td>\n",
       "      <td>8.4318</td>\n",
       "      <td>0.03</td>\n",
       "      <td>...</td>\n",
       "      <td>14.62</td>\n",
       "      <td>21.61</td>\n",
       "      <td>553.75</td>\n",
       "      <td>2388.04</td>\n",
       "      <td>9044.07</td>\n",
       "      <td>0.0019</td>\n",
       "      <td>-0.0003</td>\n",
       "      <td>190</td>\n",
       "      <td>0</td>\n",
       "      <td>0</td>\n",
       "    </tr>\n",
       "    <tr>\n",
       "      <th>2</th>\n",
       "      <td>1</td>\n",
       "      <td>3</td>\n",
       "      <td>518.67</td>\n",
       "      <td>1.3</td>\n",
       "      <td>47.27</td>\n",
       "      <td>522.42</td>\n",
       "      <td>2388.03</td>\n",
       "      <td>8133.23</td>\n",
       "      <td>8.4178</td>\n",
       "      <td>0.03</td>\n",
       "      <td>...</td>\n",
       "      <td>14.62</td>\n",
       "      <td>21.61</td>\n",
       "      <td>554.26</td>\n",
       "      <td>2388.08</td>\n",
       "      <td>9052.94</td>\n",
       "      <td>-0.0043</td>\n",
       "      <td>0.0003</td>\n",
       "      <td>189</td>\n",
       "      <td>0</td>\n",
       "      <td>0</td>\n",
       "    </tr>\n",
       "    <tr>\n",
       "      <th>3</th>\n",
       "      <td>1</td>\n",
       "      <td>4</td>\n",
       "      <td>518.67</td>\n",
       "      <td>1.3</td>\n",
       "      <td>47.13</td>\n",
       "      <td>522.86</td>\n",
       "      <td>2388.08</td>\n",
       "      <td>8133.83</td>\n",
       "      <td>8.3682</td>\n",
       "      <td>0.03</td>\n",
       "      <td>...</td>\n",
       "      <td>14.62</td>\n",
       "      <td>21.61</td>\n",
       "      <td>554.45</td>\n",
       "      <td>2388.11</td>\n",
       "      <td>9049.48</td>\n",
       "      <td>0.0007</td>\n",
       "      <td>0.0000</td>\n",
       "      <td>188</td>\n",
       "      <td>0</td>\n",
       "      <td>0</td>\n",
       "    </tr>\n",
       "    <tr>\n",
       "      <th>4</th>\n",
       "      <td>1</td>\n",
       "      <td>5</td>\n",
       "      <td>518.67</td>\n",
       "      <td>1.3</td>\n",
       "      <td>47.28</td>\n",
       "      <td>522.19</td>\n",
       "      <td>2388.04</td>\n",
       "      <td>8133.80</td>\n",
       "      <td>8.4294</td>\n",
       "      <td>0.03</td>\n",
       "      <td>...</td>\n",
       "      <td>14.62</td>\n",
       "      <td>21.61</td>\n",
       "      <td>554.00</td>\n",
       "      <td>2388.06</td>\n",
       "      <td>9055.15</td>\n",
       "      <td>-0.0019</td>\n",
       "      <td>-0.0002</td>\n",
       "      <td>187</td>\n",
       "      <td>0</td>\n",
       "      <td>0</td>\n",
       "    </tr>\n",
       "  </tbody>\n",
       "</table>\n",
       "<p>5 rows × 28 columns</p>\n",
       "</div>"
      ],
      "text/plain": [
       "   id  cycle     p00  p01    p02     p03      p04      p05     p06   p07  ...  \\\n",
       "0   1      1  518.67  1.3  47.47  521.66  2388.02  8138.62  8.4195  0.03  ...   \n",
       "1   1      2  518.67  1.3  47.49  522.28  2388.07  8131.49  8.4318  0.03  ...   \n",
       "2   1      3  518.67  1.3  47.27  522.42  2388.03  8133.23  8.4178  0.03  ...   \n",
       "3   1      4  518.67  1.3  47.13  522.86  2388.08  8133.83  8.3682  0.03  ...   \n",
       "4   1      5  518.67  1.3  47.28  522.19  2388.04  8133.80  8.4294  0.03  ...   \n",
       "\n",
       "     p16    p17     p18      p19      p20      s1      s2  ctf  binar  multi  \n",
       "0  14.62  21.61  554.36  2388.06  9046.19 -0.0007 -0.0004  191      0      0  \n",
       "1  14.62  21.61  553.75  2388.04  9044.07  0.0019 -0.0003  190      0      0  \n",
       "2  14.62  21.61  554.26  2388.08  9052.94 -0.0043  0.0003  189      0      0  \n",
       "3  14.62  21.61  554.45  2388.11  9049.48  0.0007  0.0000  188      0      0  \n",
       "4  14.62  21.61  554.00  2388.06  9055.15 -0.0019 -0.0002  187      0      0  \n",
       "\n",
       "[5 rows x 28 columns]"
      ]
     },
     "execution_count": 2,
     "metadata": {},
     "output_type": "execute_result"
    }
   ],
   "source": [
    "df_data = pd.read_csv('data/data1.csv')\n",
    "df_data.head()"
   ]
  },
  {
   "cell_type": "code",
   "execution_count": 3,
   "metadata": {},
   "outputs": [],
   "source": [
    "correl_features = ['p03', 'p18', 'p13', 'p12', 'p17', 'p20', 'p19', 'p04', 'p14', 'p08', 'p11', 'p06', 'p15', 'p02']\n",
    "data = df_data[correl_features]"
   ]
  },
  {
   "cell_type": "code",
   "execution_count": 4,
   "metadata": {},
   "outputs": [],
   "source": [
    "target = df_data['ctf']"
   ]
  },
  {
   "cell_type": "code",
   "execution_count": 5,
   "metadata": {},
   "outputs": [],
   "source": [
    "#Здесь и далее для разбивки на test- и train- выборки будем использовать learning_curve и train_test_split\n",
    "train_sizes, train_scores, test_scores = learning_curve(linear_model.LinearRegression(), data, target, \n",
    "                                                         train_sizes = np.arange(0.1, 1, 0.1), cv=3)"
   ]
  },
  {
   "cell_type": "code",
   "execution_count": 6,
   "metadata": {},
   "outputs": [
    {
     "name": "stdout",
     "output_type": "stream",
     "text": [
      "[1075 2151 3227 4303 5379 6454 7530 8606 9682]\n",
      "[0.7240562  0.70871889 0.69052695 0.68206387 0.67633693 0.63971582\n",
      " 0.61924014 0.58789374 0.59134879]\n",
      "[0.49264496 0.57154549 0.5831544  0.59052783 0.59573578 0.59352773\n",
      " 0.59331858 0.58081247 0.58172585]\n"
     ]
    }
   ],
   "source": [
    "print(train_sizes)\n",
    "print(train_scores.mean(axis = 1))\n",
    "print(test_scores.mean(axis = 1))"
   ]
  },
  {
   "cell_type": "code",
   "execution_count": 7,
   "metadata": {},
   "outputs": [
    {
     "data": {
      "text/plain": [
       "<matplotlib.legend.Legend at 0xb9ffd48>"
      ]
     },
     "execution_count": 7,
     "metadata": {},
     "output_type": "execute_result"
    },
    {
     "data": {
      "image/png": "[encoded data removed]",
      "text/plain": [
       "<Figure size 432x288 with 1 Axes>"
      ]
     },
     "metadata": {
      "needs_background": "light"
     },
     "output_type": "display_data"
    }
   ],
   "source": [
    "plt.plot(train_sizes, train_scores.mean(axis = 1), 'g-', marker = 'o', label = 'train')\n",
    "plt.plot(train_sizes, test_scores.mean(axis = 1), 'r-', marker = 'o', label = 'test')\n",
    "plt.ylim((0, 1))\n",
    "plt.legend(loc = 'lower right')"
   ]
  },
  {
   "cell_type": "code",
   "execution_count": 8,
   "metadata": {},
   "outputs": [
    {
     "name": "stdout",
     "output_type": "stream",
     "text": [
      "Training data Shape: (11296, 14)\n",
      "Training target Shape: (11296,)\n",
      "Testing data Shape: (4842, 14)\n",
      "Testing target Shape: (4842,)\n"
     ]
    }
   ],
   "source": [
    "train_data, test_data, train_target, test_target = train_test_split(data, target, test_size = 0.3, random_state = 2)\n",
    "print('Training data Shape:', train_data.shape)\n",
    "print('Training target Shape:', train_target.shape)\n",
    "print('Testing data Shape:', test_data.shape)\n",
    "print('Testing target Shape:', test_target.shape)"
   ]
  },
  {
   "cell_type": "code",
   "execution_count": 9,
   "metadata": {},
   "outputs": [
    {
     "name": "stdout",
     "output_type": "stream",
     "text": [
      "R^2 обучающая выборка: 0.592, R^2 тестовая выборка: 0.595\n"
     ]
    },
    {
     "data": {
      "text/html": [
       "<div>\n",
       "<style scoped>\n",
       "    .dataframe tbody tr th:only-of-type {\n",
       "        vertical-align: middle;\n",
       "    }\n",
       "\n",
       "    .dataframe tbody tr th {\n",
       "        vertical-align: top;\n",
       "    }\n",
       "\n",
       "    .dataframe thead th {\n",
       "        text-align: right;\n",
       "    }\n",
       "</style>\n",
       "<table border=\"1\" class=\"dataframe\">\n",
       "  <thead>\n",
       "    <tr style=\"text-align: right;\">\n",
       "      <th></th>\n",
       "      <th>Линейная регрессия</th>\n",
       "    </tr>\n",
       "  </thead>\n",
       "  <tbody>\n",
       "    <tr>\n",
       "      <th>RMSE</th>\n",
       "      <td>42.224745</td>\n",
       "    </tr>\n",
       "    <tr>\n",
       "      <th>MAE</th>\n",
       "      <td>32.274158</td>\n",
       "    </tr>\n",
       "    <tr>\n",
       "      <th>R^2</th>\n",
       "      <td>0.594953</td>\n",
       "    </tr>\n",
       "    <tr>\n",
       "      <th>EV</th>\n",
       "      <td>0.594964</td>\n",
       "    </tr>\n",
       "  </tbody>\n",
       "</table>\n",
       "</div>"
      ],
      "text/plain": [
       "      Линейная регрессия\n",
       "RMSE           42.224745\n",
       "MAE            32.274158\n",
       "R^2             0.594953\n",
       "EV              0.594964"
      ]
     },
     "execution_count": 9,
     "metadata": {},
     "output_type": "execute_result"
    }
   ],
   "source": [
    "linreg = linear_model.LinearRegression()\n",
    "linreg.fit(train_data, train_target)\n",
    "\n",
    "test_predict = linreg.predict(test_data)\n",
    "train_predict = linreg.predict(train_data)\n",
    "\n",
    "print('R^2 обучающая выборка: %.3f, R^2 тестовая выборка: %.3f' % (\n",
    "      (metrics.r2_score(train_target, train_predict)), \n",
    "      (metrics.r2_score(test_target, test_predict))))\n",
    "\n",
    "regr_metrics = {'RMSE' : metrics.mean_squared_error(test_target, test_predict)**0.5,\n",
    "                'MAE' : metrics.mean_absolute_error(test_target, test_predict),\n",
    "                'R^2' : metrics.r2_score(test_target, test_predict),\n",
    "                'EV' : metrics.explained_variance_score(test_target, test_predict)}\n",
    "\n",
    "df_regr_metrics = pd.DataFrame.from_dict(regr_metrics, orient='index')\n",
    "df_regr_metrics.columns = ['Линейная регрессия']\n",
    "df_regr_metrics"
   ]
  },
  {
   "cell_type": "code",
   "execution_count": 10,
   "metadata": {},
   "outputs": [
    {
     "data": {
      "image/png": "[encoded data removed]",
      "text/plain": [
       "<Figure size 576x360 with 1 Axes>"
      ]
     },
     "metadata": {
      "needs_background": "light"
     },
     "output_type": "display_data"
    }
   ],
   "source": [
    "K = pd.DataFrame({'Коэффициенты':linreg.coef_}, train_data.columns)\n",
    "K.sort_values(by='Коэффициенты', ascending=True).plot(kind='barh', color='b', figsize=(8,5))\n",
    "plt.xlabel('Коэффициенты линейной регрессии')\n",
    "plt.gca().legend_ = None"
   ]
  },
  {
   "cell_type": "code",
   "execution_count": 11,
   "metadata": {},
   "outputs": [
    {
     "data": {
      "image/png": "[encoded data removed]",
      "text/plain": [
       "<Figure size 432x288 with 1 Axes>"
      ]
     },
     "metadata": {
      "needs_background": "light"
     },
     "output_type": "display_data"
    }
   ],
   "source": [
    "plt.scatter(train_predict, train_predict - train_target, c='blue', marker='o', label='Обучающие данные')\n",
    "plt.scatter(test_predict, test_predict - test_target, c='lightgreen', marker='s', label='Тестовые данные')\n",
    "plt.xlabel('Значения по регрессии')\n",
    "plt.ylabel('Остатки')\n",
    "plt.legend(loc='upper left')\n",
    "plt.show()"
   ]
  },
  {
   "cell_type": "code",
   "execution_count": 12,
   "metadata": {},
   "outputs": [
    {
     "name": "stdout",
     "output_type": "stream",
     "text": [
      "R^2 training: 0.648, R^2 test: 0.609\n"
     ]
    },
    {
     "data": {
      "text/html": [
       "<div>\n",
       "<style scoped>\n",
       "    .dataframe tbody tr th:only-of-type {\n",
       "        vertical-align: middle;\n",
       "    }\n",
       "\n",
       "    .dataframe tbody tr th {\n",
       "        vertical-align: top;\n",
       "    }\n",
       "\n",
       "    .dataframe thead th {\n",
       "        text-align: right;\n",
       "    }\n",
       "</style>\n",
       "<table border=\"1\" class=\"dataframe\">\n",
       "  <thead>\n",
       "    <tr style=\"text-align: right;\">\n",
       "      <th></th>\n",
       "      <th>Полиномиальная регрессия</th>\n",
       "    </tr>\n",
       "  </thead>\n",
       "  <tbody>\n",
       "    <tr>\n",
       "      <th>RMSE</th>\n",
       "      <td>41.462607</td>\n",
       "    </tr>\n",
       "    <tr>\n",
       "      <th>MAE</th>\n",
       "      <td>30.179693</td>\n",
       "    </tr>\n",
       "    <tr>\n",
       "      <th>R^2</th>\n",
       "      <td>0.609443</td>\n",
       "    </tr>\n",
       "    <tr>\n",
       "      <th>EV</th>\n",
       "      <td>0.609461</td>\n",
       "    </tr>\n",
       "  </tbody>\n",
       "</table>\n",
       "</div>"
      ],
      "text/plain": [
       "      Полиномиальная регрессия\n",
       "RMSE                 41.462607\n",
       "MAE                  30.179693\n",
       "R^2                   0.609443\n",
       "EV                    0.609461"
      ]
     },
     "execution_count": 12,
     "metadata": {},
     "output_type": "execute_result"
    }
   ],
   "source": [
    "poly = PolynomialFeatures(degree=3)\n",
    "\n",
    "train_poly = poly.fit_transform(train_data)\n",
    "test_poly = poly.fit_transform(test_data)\n",
    "\n",
    "polyreg = linear_model.LinearRegression()\n",
    "polyreg.fit(train_poly, train_target)\n",
    "\n",
    "poly_test_predict = polyreg.predict(test_poly)\n",
    "poly_train_predict = polyreg.predict(train_poly)\n",
    "\n",
    "print('R^2 training: %.3f, R^2 test: %.3f' % (\n",
    "      (metrics.r2_score(train_target, poly_train_predict)), \n",
    "      (metrics.r2_score(test_target, poly_test_predict))))\n",
    "regr_metrics = {'RMSE' : metrics.mean_squared_error(test_target, poly_test_predict)**0.5,\n",
    "                'MAE' : metrics.mean_absolute_error(test_target, poly_test_predict),\n",
    "                'R^2' : metrics.r2_score(test_target, poly_test_predict),\n",
    "                'EV' : metrics.explained_variance_score(test_target, poly_test_predict)}\n",
    "\n",
    "df_polyreg_metrics = pd.DataFrame.from_dict(regr_metrics, orient='index')\n",
    "df_polyreg_metrics.columns = ['Полиномиальная регрессия']\n",
    "df_polyreg_metrics"
   ]
  },
  {
   "cell_type": "code",
   "execution_count": 13,
   "metadata": {},
   "outputs": [
    {
     "data": {
      "image/png": "[encoded data removed]",
      "text/plain": [
       "<Figure size 432x288 with 1 Axes>"
      ]
     },
     "metadata": {
      "needs_background": "light"
     },
     "output_type": "display_data"
    }
   ],
   "source": [
    "plt.scatter(poly_train_predict, poly_train_predict - train_target, c='blue', marker='o', label='Обучающие данные')\n",
    "plt.scatter(poly_test_predict, poly_test_predict - test_target, c='lightgreen', marker='s', label='Тестовые данные')\n",
    "plt.xlabel('Значения по регрессии')\n",
    "plt.ylabel('Остатки')\n",
    "plt.legend(loc='upper left')\n",
    "plt.show()"
   ]
  },
  {
   "cell_type": "code",
   "execution_count": 19,
   "metadata": {},
   "outputs": [],
   "source": [
    "train_sizes, train_scores, test_scores = learning_curve(RandomForestRegressor(n_estimators=40, max_features=2, \n",
    "                                                                              max_depth=10, n_jobs=-1, random_state=1), \n",
    "                                                        data, target, train_sizes = np.arange(0.1, 1, 0.1), cv=3)"
   ]
  },
  {
   "cell_type": "code",
   "execution_count": 20,
   "metadata": {},
   "outputs": [
    {
     "data": {
      "text/plain": [
       "<matplotlib.legend.Legend at 0xcb0f688>"
      ]
     },
     "execution_count": 20,
     "metadata": {},
     "output_type": "execute_result"
    },
    {
     "data": {
      "image/png": "[encoded data removed]",
      "text/plain": [
       "<Figure size 432x288 with 1 Axes>"
      ]
     },
     "metadata": {
      "needs_background": "light"
     },
     "output_type": "display_data"
    }
   ],
   "source": [
    "plt.plot(train_sizes, train_scores.mean(axis = 1), 'g-', marker = 'o', label = 'train')\n",
    "plt.plot(train_sizes, test_scores.mean(axis = 1), 'r-', marker = 'o', label = 'test')\n",
    "plt.ylim((0, 1))\n",
    "plt.legend(loc = 'lower right')"
   ]
  },
  {
   "cell_type": "code",
   "execution_count": 21,
   "metadata": {},
   "outputs": [],
   "source": [
    "train_data, test_data, train_target, test_target = train_test_split(data, target, test_size = 0.2, random_state = 2)"
   ]
  },
  {
   "cell_type": "code",
   "execution_count": 22,
   "metadata": {},
   "outputs": [
    {
     "name": "stdout",
     "output_type": "stream",
     "text": [
      "R^2 training: 0.726, R^2 test: 0.648\n"
     ]
    },
    {
     "data": {
      "text/html": [
       "<div>\n",
       "<style scoped>\n",
       "    .dataframe tbody tr th:only-of-type {\n",
       "        vertical-align: middle;\n",
       "    }\n",
       "\n",
       "    .dataframe tbody tr th {\n",
       "        vertical-align: top;\n",
       "    }\n",
       "\n",
       "    .dataframe thead th {\n",
       "        text-align: right;\n",
       "    }\n",
       "</style>\n",
       "<table border=\"1\" class=\"dataframe\">\n",
       "  <thead>\n",
       "    <tr style=\"text-align: right;\">\n",
       "      <th></th>\n",
       "      <th>Random Forest</th>\n",
       "    </tr>\n",
       "  </thead>\n",
       "  <tbody>\n",
       "    <tr>\n",
       "      <th>RMSE</th>\n",
       "      <td>39.593092</td>\n",
       "    </tr>\n",
       "    <tr>\n",
       "      <th>MAE</th>\n",
       "      <td>28.488025</td>\n",
       "    </tr>\n",
       "    <tr>\n",
       "      <th>R^2</th>\n",
       "      <td>0.648037</td>\n",
       "    </tr>\n",
       "    <tr>\n",
       "      <th>EV</th>\n",
       "      <td>0.648091</td>\n",
       "    </tr>\n",
       "  </tbody>\n",
       "</table>\n",
       "</div>"
      ],
      "text/plain": [
       "      Random Forest\n",
       "RMSE      39.593092\n",
       "MAE       28.488025\n",
       "R^2        0.648037\n",
       "EV         0.648091"
      ]
     },
     "execution_count": 22,
     "metadata": {},
     "output_type": "execute_result"
    }
   ],
   "source": [
    "rf = RandomForestRegressor(n_estimators=40, max_features=2, max_depth=10, n_jobs=-1, random_state=1)\n",
    "\n",
    "rf.fit(train_data, train_target)\n",
    "\n",
    "rf_test_predict = rf.predict(test_data)\n",
    "rf_train_predict = rf.predict(train_data)\n",
    "\n",
    "print('R^2 training: %.3f, R^2 test: %.3f' % (\n",
    "      (metrics.r2_score(train_target, rf_train_predict)), \n",
    "      (metrics.r2_score(test_target, rf_test_predict))))\n",
    "\n",
    "rf_metrics = {'RMSE' : metrics.mean_squared_error(test_target, rf_test_predict)**0.5,\n",
    "              'MAE' : metrics.mean_absolute_error(test_target, rf_test_predict),\n",
    "              'R^2' : metrics.r2_score(test_target, rf_test_predict),\n",
    "              'EV' : metrics.explained_variance_score(test_target, rf_test_predict)}\n",
    "\n",
    "df_rf_metrics = pd.DataFrame.from_dict(rf_metrics, orient='index')\n",
    "df_rf_metrics.columns = ['Random Forest']\n",
    "df_rf_metrics"
   ]
  },
  {
   "cell_type": "code",
   "execution_count": 23,
   "metadata": {},
   "outputs": [
    {
     "data": {
      "image/png": "[encoded data removed]",
      "text/plain": [
       "<Figure size 432x288 with 1 Axes>"
      ]
     },
     "metadata": {
      "needs_background": "light"
     },
     "output_type": "display_data"
    }
   ],
   "source": [
    "plt.scatter(rf_train_predict, rf_train_predict - train_target, c='blue', marker='o', label='Обучающие данные')\n",
    "plt.scatter(rf_test_predict, rf_test_predict - test_target, c='lightgreen', marker='s', label='Тестовые данные')\n",
    "plt.xlabel('Значения по rf')\n",
    "plt.ylabel('Остатки')\n",
    "plt.legend(loc='upper left')\n",
    "plt.show()"
   ]
  },
  {
   "cell_type": "markdown",
   "metadata": {},
   "source": [
    "Как видно, из реализованных алгоритмов предпочтение следует отдать нелинейным моделям, в частности  - Random Forest, со среднеквадратичным отклонением в 39,59 цикла. Также следует учесть, что параметры Random Forest Regressor были выбраны вручную, но для лучших результатов можно использовать Grid Search или случайный поиск с кросс-валидацией."
   ]
  }
 ],
 "metadata": {
  "kernelspec": {
   "display_name": "Python 3",
   "language": "python",
   "name": "python3"
  },
  "language_info": {
   "codemirror_mode": {
    "name": "ipython",
    "version": 3
   },
   "file_extension": ".py",
   "mimetype": "text/x-python",
   "name": "python",
   "nbconvert_exporter": "python",
   "pygments_lexer": "ipython3",
   "version": "3.7.6"
  }
 },
 "nbformat": 4,
 "nbformat_minor": 4
}
